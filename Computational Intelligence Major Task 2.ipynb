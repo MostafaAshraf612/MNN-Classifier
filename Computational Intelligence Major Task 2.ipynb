{
 "cells": [
  {
   "attachments": {},
   "cell_type": "markdown",
   "metadata": {},
   "source": [
    "1. Adding Important Libraries"
   ]
  },
  {
   "cell_type": "code",
   "execution_count": null,
   "metadata": {},
   "outputs": [],
   "source": [
    "import numpy as np\n",
    "import cv2\n",
    "import matplotlib.pyplot as plt\n",
    "import tensorflow as tf\n",
    "from   tensorflow import keras as ks\n",
    "import pathlib as pl\n",
    "from   sklearn.model_selection import train_test_split\n",
    "import pickle"
   ]
  },
  {
   "attachments": {},
   "cell_type": "markdown",
   "metadata": {},
   "source": [
    "2. Initializing Needed Variables "
   ]
  },
  {
   "cell_type": "code",
   "execution_count": null,
   "metadata": {},
   "outputs": [],
   "source": [
    "x,y = [],[]\n",
    "#////////////////////////////////////////////////////Histogram Of Oriented Gradients (HOG) Needed Parameters////////////////////////////////////////////  \n",
    "WindowSize   = (16,16)    #Detection Window Size \n",
    "BlockSize    = (4,4)      #Block Size  \n",
    "CellSize     = (2,2)\n",
    "BlockStride  = (1,1)      # Bllock Stride (Multiplle of Cell Size)\n",
    "BinsNumber   = 9          #Number of Bins\n",
    "#////////////////////////////////////////////////////CIFAR100 Batches////////////////////////////////////////////////////////\n",
    "Batches_Dict = {\n",
    "        1             : 'D:\\College\\Computational Intelligence\\Projects\\cifar-10-batches-py\\data_batch_1',\n",
    "        2             : 'D:\\College\\Computational Intelligence\\Projects\\cifar-10-batches-py\\data_batch_2',\n",
    "        3             : 'D:\\College\\Computational Intelligence\\Projects\\cifar-10-batches-py\\data_batch_3',\n",
    "        4             : 'D:\\College\\Computational Intelligence\\Projects\\cifar-10-batches-py\\data_batch_4',\n",
    "        5             : 'D:\\College\\Computational Intelligence\\Projects\\cifar-10-batches-py\\data_batch_5'\n",
    "}"
   ]
  },
  {
   "attachments": {},
   "cell_type": "markdown",
   "metadata": {},
   "source": [
    "3. Defining Needed Functions"
   ]
  },
  {
   "cell_type": "code",
   "execution_count": null,
   "metadata": {},
   "outputs": [],
   "source": [
    "def unpickle(file):\n",
    "    import pickle\n",
    "    with open(file, 'rb') as fo:\n",
    "        dict = pickle.load(fo, encoding='bytes')\n",
    "    return dict"
   ]
  },
  {
   "attachments": {},
   "cell_type": "markdown",
   "metadata": {},
   "source": [
    "4. Downloading and Dividing the Data Set to the required Portions "
   ]
  },
  {
   "cell_type": "code",
   "execution_count": null,
   "metadata": {},
   "outputs": [],
   "source": []
  },
  {
   "attachments": {},
   "cell_type": "markdown",
   "metadata": {},
   "source": [
    "5. Normalizing the Given Data"
   ]
  },
  {
   "cell_type": "code",
   "execution_count": null,
   "metadata": {},
   "outputs": [
    {
     "ename": "MemoryError",
     "evalue": "Unable to allocate 18.4 GiB for an array with shape (10000, 492804) and data type float32",
     "output_type": "error",
     "traceback": [
      "\u001b[1;31m---------------------------------------------------------------------------\u001b[0m",
      "\u001b[1;31mMemoryError\u001b[0m                               Traceback (most recent call last)",
      "Cell \u001b[1;32mIn[202], line 22\u001b[0m\n\u001b[0;32m     19\u001b[0m          y\u001b[39m.\u001b[39mappend(Batch_Data_Labels[index])\n\u001b[0;32m     20\u001b[0m          index \u001b[39m=\u001b[39m index\u001b[39m+\u001b[39m\u001b[39m1\u001b[39m\n\u001b[1;32m---> 22\u001b[0m Input_Data   \u001b[39m=\u001b[39m np\u001b[39m.\u001b[39;49marray(x)\n\u001b[0;32m     23\u001b[0m Input_Labels \u001b[39m=\u001b[39m np\u001b[39m.\u001b[39marray(y)\n\u001b[0;32m     25\u001b[0m \u001b[39m#Training_data, Testing_data , Training_labels , Testing_labels = train_test_split (x,y,train_size = 0.7 , test_size = 0.3)\u001b[39;00m\n\u001b[0;32m     26\u001b[0m \u001b[39m##Normalization \u001b[39;00m\n\u001b[0;32m     27\u001b[0m \u001b[39m#Training_data   = Training_data   / 255\u001b[39;00m\n\u001b[0;32m     28\u001b[0m \u001b[39m#Validation_data = Validation_data / 255\u001b[39;00m\n\u001b[0;32m     29\u001b[0m \u001b[39m#Testing_data    = Testing_data    / 255\u001b[39;00m\n",
      "\u001b[1;31mMemoryError\u001b[0m: Unable to allocate 18.4 GiB for an array with shape (10000, 492804) and data type float32"
     ]
    }
   ],
   "source": [
    "# Make a dictionary containing all ur Categories \n",
    "Data_Img_Dict = unpickle(Batches_Dict[1])\n",
    "Data_Img_Dict.keys()\n",
    "# Image Preprocessing \n",
    "Batch_Data = Data_Img_Dict[b'data']\n",
    "Batch_Data = Batch_Data.reshape(len(Batch_Data),3,32,32).transpose(0,2,3,1)\n",
    "Batch_Data_Labels = Data_Img_Dict[b'labels']\n",
    "# Visualizing Images\n",
    "\n",
    "#for i in range(16):\n",
    " # plt.subplot(4,4,i+1)\n",
    " # plt.imshow(Batch_Data[i])\n",
    "#plt.show()\n",
    "index = 0\n",
    "HOG_Descriptor= cv2.HOGDescriptor(WindowSize,BlockSize,BlockStride,CellSize,BinsNumber)\n",
    "for image in Batch_Data: \n",
    "         image = cv2.cvtColor(image,cv2.COLOR_BGR2GRAY)\n",
    "         x.append(HOG_Descriptor.compute(image))\n",
    "         y.append(Batch_Data_Labels[index])\n",
    "         index = index+1\n",
    "\n",
    "Input_Data   = np.array(x)\n",
    "Input_Labels = np.array(y)\n",
    "\n",
    "#Training_data, Testing_data , Training_labels , Testing_labels = train_test_split (x,y,train_size = 0.7 , test_size = 0.3)\n",
    "##Normalization \n",
    "#Training_data   = Training_data   / 255\n",
    "#Validation_data = Validation_data / 255\n",
    "#Testing_data    = Testing_data    / 255\n",
    "\n"
   ]
  }
 ],
 "metadata": {
  "kernelspec": {
   "display_name": "Python 3",
   "language": "python",
   "name": "python3"
  },
  "language_info": {
   "codemirror_mode": {
    "name": "ipython",
    "version": 3
   },
   "file_extension": ".py",
   "mimetype": "text/x-python",
   "name": "python",
   "nbconvert_exporter": "python",
   "pygments_lexer": "ipython3",
   "version": "3.10.9 (tags/v3.10.9:1dd9be6, Dec  6 2022, 20:01:21) [MSC v.1934 64 bit (AMD64)]"
  },
  "orig_nbformat": 4,
  "vscode": {
   "interpreter": {
    "hash": "19920773463dc072d0790798805934b04826e9a813eab001d4d7b857bf237100"
   }
  }
 },
 "nbformat": 4,
 "nbformat_minor": 2
}
